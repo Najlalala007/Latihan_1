{
  "nbformat": 4,
  "nbformat_minor": 0,
  "metadata": {
    "colab": {
      "provenance": [],
      "authorship_tag": "ABX9TyPCOtE/Z+56PToSTMlS00vw",
      "include_colab_link": true
    },
    "kernelspec": {
      "name": "python3",
      "display_name": "Python 3"
    },
    "language_info": {
      "name": "python"
    }
  },
  "cells": [
    {
      "cell_type": "markdown",
      "metadata": {
        "id": "view-in-github",
        "colab_type": "text"
      },
      "source": [
        "<a href=\"https://colab.research.google.com/github/Najlalala007/Latihan_1/blob/main/_ToDoList.ipynb\" target=\"_parent\"><img src=\"https://colab.research.google.com/assets/colab-badge.svg\" alt=\"Open In Colab\"/></a>"
      ]
    },
    {
      "cell_type": "code",
      "execution_count": null,
      "metadata": {
        "colab": {
          "base_uri": "https://localhost:8080/"
        },
        "id": "cvxqsOW73Q7L",
        "outputId": "0642cf3c-0070-46db-a0ec-84786cfc81cd"
      },
      "outputs": [
        {
          "output_type": "stream",
          "name": "stdout",
          "text": [
            "=== To Do List Application ===\n",
            "==== Najla Ghaida Fauziyah ====\n",
            "Menu:    \n",
            "1. Add List1\n",
            "2. Remove List1\n",
            "3. End This Program\n",
            " \n",
            "----------------------------------------\n"
          ]
        }
      ],
      "source": [
        "#To Do List Application\n",
        "add_activity=[]\n",
        "i=0\n",
        "while True:\n",
        "    print(\"=== To Do List Application ===\")\n",
        "    print(\"==== Najla Ghaida Fauziyah ====\")\n",
        "    print('Menu:    ')\n",
        "    print(\"1. Add List1\")\n",
        "    print(\"2. Remove List1\")\n",
        "    print(\"3. End This Program\")\n",
        "    print(\" \\n----------------------------------------\")\n",
        "    option= int(input('Choose Your Option 1/2/3: '))\n",
        "    #ADD LIST\n",
        "    if option == 1:\n",
        "        while True:\n",
        "            new_add_list = input('Input Your Activity:  ')\n",
        "            add_activity.append(new_add_list)\n",
        "            i += 1\n",
        "            choice=input(\"Input Your Activity? ok/no:  \")\n",
        "            if choice == 'no':\n",
        "                print('\\n your activity was: ', format(len(add_activity)))\n",
        "                for act in add_activity:\n",
        "                    print('- {}'. format(act))\n",
        "                break\n",
        "    #REMOVE LIST\n",
        "    elif option == 2:\n",
        "        while True:\n",
        "            add_activity.remove(input('\\n Input Activity You will deleted: '))\n",
        "            i -= 1\n",
        "            choice = input('Want To Delete this? ok/no:  ')\n",
        "            if choice == 'ok':\n",
        "                print('\\n your activity was: ', format(len(add_activity)))\n",
        "                for act in add_activity:\n",
        "                    print('- {}'. format(act))\n",
        "                break\n",
        "    elif option == 3:\n",
        "        choice = input('\\n You Want To EXIT this Program? ok/no:    ')\n",
        "        if choice=='no':\n",
        "            continue\n",
        "        else:\n",
        "            print(\"\\nThank You For Using This Program\")\n",
        "        break\n",
        "    else:\n",
        "        print(\"Wrong Input\")\n",
        "\n"
      ]
    }
  ]
}