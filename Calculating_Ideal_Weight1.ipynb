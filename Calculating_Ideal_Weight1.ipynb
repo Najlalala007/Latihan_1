{
  "nbformat": 4,
  "nbformat_minor": 0,
  "metadata": {
    "colab": {
      "provenance": [],
      "authorship_tag": "ABX9TyNiTi3qdBWrYTJDzTp6VOpC",
      "include_colab_link": true
    },
    "kernelspec": {
      "name": "python3",
      "display_name": "Python 3"
    },
    "language_info": {
      "name": "python"
    }
  },
  "cells": [
    {
      "cell_type": "markdown",
      "metadata": {
        "id": "view-in-github",
        "colab_type": "text"
      },
      "source": [
        "<a href=\"https://colab.research.google.com/github/Najlalala007/Latihan_1/blob/main/Calculating_Ideal_Weight1.ipynb\" target=\"_parent\"><img src=\"https://colab.research.google.com/assets/colab-badge.svg\" alt=\"Open In Colab\"/></a>"
      ]
    },
    {
      "cell_type": "code",
      "execution_count": 4,
      "metadata": {
        "colab": {
          "base_uri": "https://localhost:8080/",
          "height": 512
        },
        "id": "y4jqq_PzdrcF",
        "outputId": "2801b122-af2b-4205-e959-0a3cf777de27"
      },
      "outputs": [
        {
          "name": "stdout",
          "output_type": "stream",
          "text": [
            "=== Calculating Ideal Weight ===\n",
            "==== Najla Ghaida Fauziyah ====\n",
            " \n",
            "----------------------------------------\n",
            "Example: '150.0'\n",
            "Input Your Current Height     :150.0\n",
            "Example: '40.0'\n",
            "Input Your Current Weight     :39.0\n",
            "Choose Your Option boy/girl:     girl\n"
          ]
        },
        {
          "output_type": "error",
          "ename": "TypeError",
          "evalue": "ignored",
          "traceback": [
            "\u001b[0;31m---------------------------------------------------------------------------\u001b[0m",
            "\u001b[0;31mTypeError\u001b[0m                                 Traceback (most recent call last)",
            "\u001b[0;32m<ipython-input-4-a64abbc8e10a>\u001b[0m in \u001b[0;36m<module>\u001b[0;34m\u001b[0m\n\u001b[1;32m     28\u001b[0m         \u001b[0;32melse\u001b[0m\u001b[0;34m:\u001b[0m\u001b[0;34m\u001b[0m\u001b[0;34m\u001b[0m\u001b[0m\n\u001b[1;32m     29\u001b[0m             \u001b[0;32mreturn\u001b[0m \u001b[0;34m'Ideal Weight'\u001b[0m\u001b[0;34m\u001b[0m\u001b[0;34m\u001b[0m\u001b[0m\n\u001b[0;32m---> 30\u001b[0;31m     \u001b[0mresult\u001b[0m \u001b[0;34m=\u001b[0m \u001b[0mwh\u001b[0m \u001b[0;34m(\u001b[0m\u001b[0;34m'weight, height'\u001b[0m\u001b[0;34m)\u001b[0m\u001b[0;34m\u001b[0m\u001b[0;34m\u001b[0m\u001b[0m\n\u001b[0m\u001b[1;32m     31\u001b[0m     \u001b[0mprint\u001b[0m\u001b[0;34m(\u001b[0m\u001b[0;34m'Your Weight is'\u001b[0m\u001b[0;34m,\u001b[0m \u001b[0mwh\u001b[0m\u001b[0;34m,\u001b[0m \u001b[0;34m'And Your Ideal Weight is'\u001b[0m\u001b[0;34m,\u001b[0m \u001b[0mresult\u001b[0m\u001b[0;34m,\u001b[0m\u001b[0;34m'kg'\u001b[0m\u001b[0;34m)\u001b[0m\u001b[0;34m\u001b[0m\u001b[0;34m\u001b[0m\u001b[0m\n\u001b[1;32m     32\u001b[0m \u001b[0;32melse\u001b[0m\u001b[0;34m:\u001b[0m\u001b[0;34m\u001b[0m\u001b[0;34m\u001b[0m\u001b[0m\n",
            "\u001b[0;32m<ipython-input-4-a64abbc8e10a>\u001b[0m in \u001b[0;36mwh\u001b[0;34m(weight_height)\u001b[0m\n\u001b[1;32m     22\u001b[0m     \u001b[0mwh\u001b[0m\u001b[0;34m=\u001b[0m \u001b[0;34m(\u001b[0m\u001b[0myour_height\u001b[0m\u001b[0;34m-\u001b[0m\u001b[0;36m100\u001b[0m\u001b[0;34m)\u001b[0m\u001b[0;34m-\u001b[0m\u001b[0;34m(\u001b[0m\u001b[0;34m(\u001b[0m\u001b[0myour_weight\u001b[0m\u001b[0;34m-\u001b[0m\u001b[0;36m100\u001b[0m\u001b[0;34m)\u001b[0m\u001b[0;34m*\u001b[0m\u001b[0;36m15.0\u001b[0m\u001b[0;34m/\u001b[0m\u001b[0;36m100\u001b[0m\u001b[0;34m)\u001b[0m\u001b[0;34m\u001b[0m\u001b[0;34m\u001b[0m\u001b[0m\n\u001b[1;32m     23\u001b[0m     \u001b[0;32mdef\u001b[0m \u001b[0mwh\u001b[0m \u001b[0;34m(\u001b[0m\u001b[0mweight_height\u001b[0m\u001b[0;34m)\u001b[0m\u001b[0;34m:\u001b[0m\u001b[0;34m\u001b[0m\u001b[0;34m\u001b[0m\u001b[0m\n\u001b[0;32m---> 24\u001b[0;31m         \u001b[0;32mif\u001b[0m \u001b[0mwh\u001b[0m \u001b[0;34m>=\u001b[0m \u001b[0;36m22.9\u001b[0m\u001b[0;34m:\u001b[0m\u001b[0;34m\u001b[0m\u001b[0;34m\u001b[0m\u001b[0m\n\u001b[0m\u001b[1;32m     25\u001b[0m             \u001b[0;32mreturn\u001b[0m \u001b[0;34m'Over Weight'\u001b[0m\u001b[0;34m\u001b[0m\u001b[0;34m\u001b[0m\u001b[0m\n\u001b[1;32m     26\u001b[0m         \u001b[0;32mif\u001b[0m \u001b[0mwh\u001b[0m \u001b[0;34m<=\u001b[0m \u001b[0;36m18.5\u001b[0m\u001b[0;34m:\u001b[0m\u001b[0;34m\u001b[0m\u001b[0;34m\u001b[0m\u001b[0m\n",
            "\u001b[0;31mTypeError\u001b[0m: '>=' not supported between instances of 'function' and 'float'"
          ]
        }
      ],
      "source": [
        "#Calculating Weight\n",
        "print('=== Calculating Ideal Weight ===')\n",
        "print(\"==== Najla Ghaida Fauziyah ====\")\n",
        "print(\" \\n----------------------------------------\")\n",
        "print(\"Example: '150.0'\")\n",
        "your_height= float(input('Input Your Current Height     :'))\n",
        "print(\"Example: '40.0'\")\n",
        "your_weight= float(input('Input Your Current Weight     :'))\n",
        "option= input('Choose Your Option boy/girl:     ')\n",
        "if option == 'boy':\n",
        "    def wh (weight_height):\n",
        "        wh= (your_height-100)-((your_weight-100)*10.0/100)\n",
        "        if wh > 22.9:\n",
        "            return 'Over Weight'\n",
        "        if wh < 18.5:\n",
        "            return 'Under Weight'\n",
        "        else:\n",
        "            return 'Ideal Weight'\n",
        "    result = wh ('weight, height')\n",
        "    print('Your Weight is', wh, 'And Your Ideal Weight is', result,'kg')\n",
        "elif option == 'girl':\n",
        "    wh= (your_height-100)-((your_weight-100)*15.0/100)\n",
        "    def wh (weight_height):\n",
        "        if wh > 22.9:\n",
        "            return 'Over Weight'\n",
        "        if wh < 18.5:\n",
        "            return 'Under Weight'\n",
        "        else:\n",
        "            return 'Ideal Weight'\n",
        "    result = wh ('weight, height')\n",
        "    print('Your Weight is', wh, 'And Your Ideal Weight is', result,'kg')\n",
        "else:\n",
        "    print(\"Wrong Input\")\n",
        "    "
      ]
    }
  ]
}