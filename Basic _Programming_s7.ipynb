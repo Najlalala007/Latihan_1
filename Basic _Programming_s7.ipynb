{
  "nbformat": 4,
  "nbformat_minor": 0,
  "metadata": {
    "colab": {
      "provenance": [],
      "authorship_tag": "ABX9TyPMtBThnzqIbuzLDZ0nUkLu",
      "include_colab_link": true
    },
    "kernelspec": {
      "name": "python3",
      "display_name": "Python 3"
    },
    "language_info": {
      "name": "python"
    }
  },
  "cells": [
    {
      "cell_type": "markdown",
      "metadata": {
        "id": "view-in-github",
        "colab_type": "text"
      },
      "source": [
        "<a href=\"https://colab.research.google.com/github/Najlalala007/Latihan_1/blob/main/Basic%20_Programming_s7.ipynb\" target=\"_parent\"><img src=\"https://colab.research.google.com/assets/colab-badge.svg\" alt=\"Open In Colab\"/></a>"
      ]
    },
    {
      "cell_type": "code",
      "execution_count": 2,
      "metadata": {
        "colab": {
          "base_uri": "https://localhost:8080/"
        },
        "id": "5aT9d6JZTr-y",
        "outputId": "23c83f6a-70d3-4b37-d912-aacb49957f23"
      },
      "outputs": [
        {
          "output_type": "stream",
          "name": "stdout",
          "text": [
            "=== Kalkulator Sederhana ===\n",
            "menu\n",
            "1. Hitung luas Segitiga \n",
            "2. Hitung Luas Persegi Panjang\n",
            "3. Tentukan Bilangan Ganjil dan Genap\n",
            "4. quit\n",
            "Input 1/2/3/4:   1\n",
            "Masukan Alas: 2\n",
            "Masukan Tinggi: 3\n",
            "Luas Segitiga adalah = 3.00\n",
            "Input 1/2/3/4:   4\n",
            "Thank you!\n"
          ]
        }
      ],
      "source": [
        "print('=== Kalkulator Sederhana ===')\n",
        "print('menu')\n",
        "print('1. Hitung luas Segitiga ')\n",
        "print('2. Hitung Luas Persegi Panjang')\n",
        "print('3. Tentukan Bilangan Ganjil dan Genap')\n",
        "print('4. quit')\n",
        "while True: \n",
        "    m = input('Input 1/2/3/4:   ')\n",
        "\n",
        " #1. Hitung Luas Segitiga\n",
        "    if m=='1':\n",
        "        a = float(input('Masukan Alas: '))\n",
        "        t = float(input('Masukan Tinggi: '))\n",
        "        luas = 0.5*a*t\n",
        "        print(\"Luas Segitiga adalah = %0.2f\" % luas)\n",
        "\n",
        " #2. Hitung Luas Persegi Panjang   \n",
        "    elif m=='2':\n",
        "          p = float(input('Masukan Panjang: '))\n",
        "          l = float(input('Masukan Lebar:  '))\n",
        "          luas = p * l\n",
        "          print(\"Luas Persegi Panjang:  \",luas)\n",
        "\n",
        " #3. Tentukan angka ganjil dan genap \n",
        "    elif m=='3':\n",
        "          v = int(input('Masukan Variabel:    '))\n",
        "          if v %2 == 0:\n",
        "              print('{0} Bilangan Genap'. format(v))\n",
        "          else:\n",
        "              print('{0} Bilangan Ganjil'. format(v)) \n",
        "    elif m=='4':\n",
        "          print('Thank you!')\n",
        "          break\n",
        "    else:\n",
        "        print('invalid data')"
      ]
    }
  ]
}