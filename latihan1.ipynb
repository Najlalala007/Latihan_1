{
 "cells": [
  {
   "cell_type": "code",
   "execution_count": 2,
   "id": "3785a0a2",
   "metadata": {},
   "outputs": [
    {
     "name": "stdout",
     "output_type": "stream",
     "text": [
      "Najla Ghaida\n",
      "Najla Ghaida\n",
      "Najla Ghaida\n"
     ]
    }
   ],
   "source": [
    "print (\"Najla Ghaida\")\n",
    "print (\"Najla Ghaida\")\n",
    "print (\"Najla Ghaida\")"
   ]
  },
  {
   "cell_type": "code",
   "execution_count": 4,
   "id": "1a57c41a",
   "metadata": {},
   "outputs": [
    {
     "name": "stdout",
     "output_type": "stream",
     "text": [
      "7\n"
     ]
    }
   ],
   "source": [
    "print (2+5)"
   ]
  },
  {
   "cell_type": "code",
   "execution_count": 7,
   "id": "d34c19a5",
   "metadata": {},
   "outputs": [
    {
     "name": "stdout",
     "output_type": "stream",
     "text": [
      "hasil dari panjang * lebar adalah 50\n"
     ]
    }
   ],
   "source": [
    "panjang = 5\n",
    "lebar = 10\n",
    "print (\"hasil dari panjang * lebar adalah\", panjang*lebar)"
   ]
  },
  {
   "cell_type": "code",
   "execution_count": null,
   "id": "764efc90",
   "metadata": {},
   "outputs": [],
   "source": []
  }
 ],
 "metadata": {
  "kernelspec": {
   "display_name": "Python 3 (ipykernel)",
   "language": "python",
   "name": "python3"
  },
  "language_info": {
   "codemirror_mode": {
    "name": "ipython",
    "version": 3
   },
   "file_extension": ".py",
   "mimetype": "text/x-python",
   "name": "python",
   "nbconvert_exporter": "python",
   "pygments_lexer": "ipython3",
   "version": "3.9.12"
  }
 },
 "nbformat": 4,
 "nbformat_minor": 5
}
